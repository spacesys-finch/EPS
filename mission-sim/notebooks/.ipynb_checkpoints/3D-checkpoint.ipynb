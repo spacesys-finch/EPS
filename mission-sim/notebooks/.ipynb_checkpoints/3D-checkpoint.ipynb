{
 "cells": [
  {
   "cell_type": "code",
   "execution_count": 1,
   "metadata": {},
   "outputs": [
    {
     "name": "stdout",
     "output_type": "stream",
     "text": [
      "Populating the interactive namespace from numpy and matplotlib\n"
     ]
    }
   ],
   "source": [
    "%load_ext autoreload\n",
    "%autoreload 2\n",
    "%pylab inline\n",
    "import numpy as n\n",
    "import os.path\n",
    "import datetime as dt\n"
   ]
  },
  {
   "cell_type": "code",
   "execution_count": 2,
   "metadata": {
    "scrolled": false
   },
   "outputs": [
    {
     "data": {
      "application/javascript": [
       "if (typeof Jupyter !== \"undefined\") {require.undef(\"nbextensions/vpython_libraries/glow.min\");}else{element.textContent = ' ';}"
      ],
      "text/plain": [
       "<IPython.core.display.Javascript object>"
      ]
     },
     "metadata": {},
     "output_type": "display_data"
    },
    {
     "data": {
      "application/javascript": [
       "if (typeof Jupyter !== \"undefined\") {require.undef(\"nbextensions/vpython_libraries/glowcomm\");}else{element.textContent = ' ';}"
      ],
      "text/plain": [
       "<IPython.core.display.Javascript object>"
      ]
     },
     "metadata": {},
     "output_type": "display_data"
    },
    {
     "data": {
      "application/javascript": [
       "if (typeof Jupyter !== \"undefined\") {require.undef(\"nbextensions/vpython_libraries/jquery-ui.custom.min\");}else{element.textContent = ' ';}"
      ],
      "text/plain": [
       "<IPython.core.display.Javascript object>"
      ]
     },
     "metadata": {},
     "output_type": "display_data"
    },
    {
     "data": {
      "application/javascript": [
       "if (typeof Jupyter !== \"undefined\") {require([\"nbextensions/vpython_libraries/glow.min\"], function(){console.log(\"GLOW LOADED\");});}else{element.textContent = ' ';}"
      ],
      "text/plain": [
       "<IPython.core.display.Javascript object>"
      ]
     },
     "metadata": {},
     "output_type": "display_data"
    },
    {
     "data": {
      "application/javascript": [
       "if (typeof Jupyter !== \"undefined\") {require([\"nbextensions/vpython_libraries/glowcomm\"], function(){console.log(\"GLOWCOMM LOADED\");});}else{element.textContent = ' ';}"
      ],
      "text/plain": [
       "<IPython.core.display.Javascript object>"
      ]
     },
     "metadata": {},
     "output_type": "display_data"
    },
    {
     "data": {
      "application/javascript": [
       "if (typeof Jupyter !== \"undefined\") {require([\"nbextensions/vpython_libraries/jquery-ui.custom.min\"], function(){console.log(\"JQUERY LOADED\");});}else{element.textContent = ' ';}"
      ],
      "text/plain": [
       "<IPython.core.display.Javascript object>"
      ]
     },
     "metadata": {},
     "output_type": "display_data"
    },
    {
     "data": {
      "text/html": [
       "<div id=\"glowscript\" class=\"glowscript\"></div>"
      ],
      "text/plain": [
       "<IPython.core.display.HTML object>"
      ]
     },
     "metadata": {},
     "output_type": "display_data"
    },
    {
     "data": {
      "application/javascript": [
       "if (typeof Jupyter !== \"undefined\") { window.__context = { glowscript_container: $(\"#glowscript\").removeAttr(\"id\")};}else{ element.textContent = ' ';}"
      ],
      "text/plain": [
       "<IPython.core.display.Javascript object>"
      ]
     },
     "metadata": {},
     "output_type": "display_data"
    }
   ],
   "source": [
    "from geometry import *\n",
    "from vpython_utils import *"
   ]
  },
  {
   "cell_type": "code",
   "execution_count": 3,
   "metadata": {},
   "outputs": [],
   "source": [
    "n.set_printoptions(suppress=True)"
   ]
  },
  {
   "cell_type": "code",
   "execution_count": 4,
   "metadata": {},
   "outputs": [],
   "source": [
    "class Satellite():\n",
    "    def __init__(self, properties):\n",
    "        self.properties = properties\n",
    "        self.subsystems = {}\n",
    "        # 0-3: long edges, 4: top, 5: bottom, 6: spitroast angle\n",
    "        self.starting_orientation = n.array([[1,0,0],[0,1,0],[-1,0,0],[0,-1,0],[0,0,1],[0,0,-1]]).astype(n.float32)\n",
    "        self.current_orientation  = n.array([[1,0,0],[0,1,0],[-1,0,0],[0,-1,0],[0,0,1],[0,0,-1]]).astype(n.float32)\n",
    "        self.normal_angles = n.zeros(6, n.float32)\n",
    "        self.area_ratio = n.zeros(6,n.float32)\n",
    "        self.angles = n.zeros(6,n.float32)\n",
    "        self.gen_powers_per_face = [[] for i in range(6)]\n",
    "        self.gen_powers_total = []\n",
    "        self.ts = []\n",
    "        self.zrot_angle = 0\n",
    "        \n",
    "    def a_e(self):\n",
    "        pass\n",
    "    \n",
    "    \n",
    "    def add_subsystem(self, name, voltage, power_modes = None):\n",
    "        self.subsystems[name] = Subsystem(name, voltage, power_modes)\n",
    "        \n",
    "        \n",
    "        \n",
    "        \n",
    "    def update_face_orientations(theta, phi, psi, sun_vector):\n",
    "        for i in range(6):\n",
    "            self.current_orientation[i] = rotate_vector(self.starting_orientation[i],theta, phi, psi )\n",
    "            self.area_ratio[i], self.normal_angles[i] = dot_and_angle(sun_vector, self.current_orientation[i])\n",
    "            \n",
    "    def generate_power(self, t, eclipse_frac):\n",
    "    \n",
    "        total_power_gen = 0\n",
    "        for i in range(self.starting_orientation.shape[0]):\n",
    "            self.current_orientation[i] = rotate_vector(self.starting_orientation[i],orbit['theta'],orbit['phi'], new_psi )\n",
    "            self.area_ratio[i], self.normal_angles[i] = dot_and_angle(solar_sys['sun_vector'], self.current_orientation[i])\n",
    "\n",
    "            power_gen = -1.0 * solar_sys['solar_flux'] * (1/10000.0) * self.cell_areas[i] * 0.3 * self.area_ratio[i]\n",
    "            if power_gen < 0 or t < eclipse_frac: power_gen = 0\n",
    "            total_power_gen += power_gen\n",
    "            self.gen_powers_per_face[i].append(power_gen)\n",
    "        self.gen_powers_total.append(total_power_gen)    \n",
    "        self.ts.append(t)\n",
    "\n",
    "class Subsystem():\n",
    "    def __init__(self, name, voltage, power_modes = None):\n",
    "        self.name = name\n",
    "        self.v = voltage\n",
    "        self.power_modes = power_modes # can be dict or constant, unit is mW\n",
    "\n",
    "    def run(self,mode = 'default'):\n",
    "        if type(self.power_modes) == dict:\n",
    "            assert (mode in self.power_modes.keys()), \"Provide valid operational mode\"\n",
    "            power = self.power_modes[mode]\n",
    "        else: power = self.power_modes\n",
    "        \n",
    "        assert power is not None, \"Subsystem incorrectly configured\"\n",
    "        \n",
    "        return power / self.v # returns the current draw in mA\n",
    "    \n"
   ]
  },
  {
   "cell_type": "code",
   "execution_count": 5,
   "metadata": {},
   "outputs": [],
   "source": [
    "solar_sys ={'sun_dist' : 50e6,\n",
    "            'sun_radius' : 20e6,\n",
    "            'earth_radius' :6.371e6,\n",
    "            'flip_o' : (1,2,0),\n",
    "            'flip_v' : (0,2,1),\n",
    "            'sun_vector' : (0,1,0),\n",
    "            'solar_flux' : 1373.0} # W m^-2, constant \n",
    "\n",
    "\n",
    "orbit = {'period' : 90,\n",
    "         'altitude' : 10e5,\n",
    "         'phi' : n.pi/2,\n",
    "         'theta' : 0,\n",
    "         'zrot_period' : 1,\n",
    "         'psi_mode' : 'fast-pole-flip'}\n",
    "\n",
    "satellite_props = {'sizefactor': 5e6}\n",
    "\n",
    "sim_props = {'n_orbits' : 6,\n",
    "             'total_time': None, # minutes, overrides n_orbit if set\n",
    "             'dt' : 0.5, #minutes\n",
    "             'sim_time' :10, # seconds\n",
    "             }"
   ]
  },
  {
   "cell_type": "code",
   "execution_count": 6,
   "metadata": {},
   "outputs": [],
   "source": [
    "heron = Satellite(satellite_props)\n",
    "heron.orbit = orbit\n",
    "\n",
    "heron.add_subsystem('obc', 3.3, 50)\n",
    "heron.add_subsystem('com', 5, {'default' : 100, 'tx' : 3000})\n",
    "heron.add_subsystem('pay',3.3, {'default' : 50, 'data_collection' : 400})\n",
    "heron.add_subsystem('mtr',5, {'default' : 0, 'actuate' : 2000})\n",
    "heron.add_subsystem('htr_batt', 5)\n",
    "heron.add_subsystem('htr_pay', 5)\n",
    "heron.cell_areas = n.array([30.18*6, 30.18*6, 30.18*6, 30.18*6, 0,0])"
   ]
  },
  {
   "cell_type": "code",
   "execution_count": 7,
   "metadata": {},
   "outputs": [],
   "source": [
    "from vpython import *"
   ]
  },
  {
   "cell_type": "code",
   "execution_count": 8,
   "metadata": {},
   "outputs": [],
   "source": [
    "face_colors = [color.blue, color.green, color.orange, color.purple, color.yellow, color.cyan]"
   ]
  },
  {
   "cell_type": "code",
   "execution_count": 9,
   "metadata": {
    "scrolled": false
   },
   "outputs": [
    {
     "data": {
      "text/html": [
       "<div id=\"glowscript\" class=\"glowscript\"></div>"
      ],
      "text/plain": [
       "<IPython.core.display.HTML object>"
      ]
     },
     "metadata": {},
     "output_type": "display_data"
    },
    {
     "data": {
      "application/javascript": [
       "if (typeof Jupyter !== \"undefined\") { window.__context = { glowscript_container: $(\"#glowscript\").removeAttr(\"id\")};}else{ element.textContent = ' ';}"
      ],
      "text/plain": [
       "<IPython.core.display.Javascript object>"
      ]
     },
     "metadata": {},
     "output_type": "display_data"
    },
    {
     "data": {
      "text/html": [
       "<div id=\"glowscript\" class=\"glowscript\"></div>"
      ],
      "text/plain": [
       "<IPython.core.display.HTML object>"
      ]
     },
     "metadata": {},
     "output_type": "display_data"
    },
    {
     "data": {
      "application/javascript": [
       "if (typeof Jupyter !== \"undefined\") { window.__context = { glowscript_container: $(\"#glowscript\").removeAttr(\"id\")};}else{ element.textContent = ' ';}"
      ],
      "text/plain": [
       "<IPython.core.display.Javascript object>"
      ]
     },
     "metadata": {},
     "output_type": "display_data"
    }
   ],
   "source": [
    "sc, solar_sys, heron = make_orbit_scene(solar_sys, heron)\n",
    "\n",
    "sc_v,solar_sys, heron = make_view_scene(solar_sys, heron)\n",
    "\n",
    "g = graph(title='Power Generation over time', xtitle=\"time (m)\" , ytitle = 'vector', fast=False)\n",
    "solar_power_curves = [gcurve(graph=g , color = face_colors[i], label = 'Face ' + str(i)) for i in range(6)]\n",
    "solar_power_curves += [gcurve(graph=g, color=color.red, label='Total Power')]"
   ]
  },
  {
   "cell_type": "code",
   "execution_count": null,
   "metadata": {},
   "outputs": [],
   "source": [
    "g.xmin = 0\n",
    "g.xmax = 300"
   ]
  },
  {
   "cell_type": "code",
   "execution_count": 10,
   "metadata": {},
   "outputs": [
    {
     "name": "stdout",
     "output_type": "stream",
     "text": [
      "Changing total time simulated to 540.00\n"
     ]
    },
    {
     "ename": "KeyError",
     "evalue": "'periokeybd'",
     "output_type": "error",
     "traceback": [
      "\u001b[0;31m---------------------------------------------------------------------------\u001b[0m",
      "\u001b[0;31mKeyError\u001b[0m                                  Traceback (most recent call last)",
      "\u001b[0;32m<ipython-input-10-4a555f3e6d28>\u001b[0m in \u001b[0;36m<module>\u001b[0;34m\u001b[0m\n\u001b[1;32m      3\u001b[0m \u001b[0mheron\u001b[0m\u001b[0;34m.\u001b[0m\u001b[0morbit\u001b[0m\u001b[0;34m[\u001b[0m\u001b[0;34m'phi'\u001b[0m\u001b[0;34m]\u001b[0m \u001b[0;34m=\u001b[0m \u001b[0;36m0\u001b[0m\u001b[0;34m\u001b[0m\u001b[0;34m\u001b[0m\u001b[0m\n\u001b[1;32m      4\u001b[0m \u001b[0mheron\u001b[0m\u001b[0;34m.\u001b[0m\u001b[0morbit\u001b[0m\u001b[0;34m[\u001b[0m\u001b[0;34m'theta'\u001b[0m\u001b[0;34m]\u001b[0m \u001b[0;34m=\u001b[0m \u001b[0;36m0.2\u001b[0m\u001b[0;34m\u001b[0m\u001b[0;34m\u001b[0m\u001b[0m\n\u001b[0;32m----> 5\u001b[0;31m \u001b[0msimulate\u001b[0m\u001b[0;34m(\u001b[0m\u001b[0msim_props\u001b[0m\u001b[0;34m,\u001b[0m \u001b[0mheron\u001b[0m\u001b[0;34m,\u001b[0m \u001b[0msolar_sys\u001b[0m\u001b[0;34m,\u001b[0m \u001b[0msolar_power_curves\u001b[0m\u001b[0;34m,\u001b[0m \u001b[0mg\u001b[0m\u001b[0;34m)\u001b[0m\u001b[0;34m\u001b[0m\u001b[0;34m\u001b[0m\u001b[0m\n\u001b[0m",
      "\u001b[0;32m~/UTAT/mission-sim/vpython_utils.py\u001b[0m in \u001b[0;36msimulate\u001b[0;34m(sim_props, satellite, solar_system, area_curves, graph)\u001b[0m\n\u001b[1;32m    128\u001b[0m \u001b[0;34m\u001b[0m\u001b[0m\n\u001b[1;32m    129\u001b[0m         \u001b[0mt\u001b[0m \u001b[0;34m=\u001b[0m \u001b[0mi\u001b[0m \u001b[0;34m*\u001b[0m \u001b[0mdt\u001b[0m\u001b[0;34m\u001b[0m\u001b[0;34m\u001b[0m\u001b[0m\n\u001b[0;32m--> 130\u001b[0;31m         \u001b[0mfraction_orbit\u001b[0m \u001b[0;34m=\u001b[0m \u001b[0;34m(\u001b[0m\u001b[0mt\u001b[0m \u001b[0;34m%\u001b[0m \u001b[0morbit\u001b[0m\u001b[0;34m[\u001b[0m\u001b[0;34m'period'\u001b[0m\u001b[0;34m]\u001b[0m\u001b[0;34m)\u001b[0m\u001b[0;34m/\u001b[0m\u001b[0morbit\u001b[0m\u001b[0;34m[\u001b[0m\u001b[0;34m'periokeybd'\u001b[0m\u001b[0;34m]\u001b[0m\u001b[0;34m\u001b[0m\u001b[0;34m\u001b[0m\u001b[0m\n\u001b[0m\u001b[1;32m    131\u001b[0m         \u001b[0msatellite\u001b[0m\u001b[0;34m.\u001b[0m\u001b[0mts\u001b[0m\u001b[0;34m[\u001b[0m\u001b[0mi\u001b[0m\u001b[0;34m]\u001b[0m \u001b[0;34m=\u001b[0m \u001b[0mi\u001b[0m\u001b[0;34m\u001b[0m\u001b[0;34m\u001b[0m\u001b[0m\n\u001b[1;32m    132\u001b[0m         animate(solar_system, satellite, fraction_orbit,\n",
      "\u001b[0;31mKeyError\u001b[0m: 'periokeybd'"
     ]
    }
   ],
   "source": [
    "for a in solar_power_curves: a.delete()\n",
    "\n",
    "heron.orbit['phi'] = 0\n",
    "heron.orbit['theta'] = 0.2\n",
    "simulate(sim_props, heron, solar_sys, solar_power_curves, g)"
   ]
  },
  {
   "cell_type": "code",
   "execution_count": 6,
   "metadata": {},
   "outputs": [
    {
     "ename": "NameError",
     "evalue": "name 'g' is not defined",
     "output_type": "error",
     "traceback": [
      "\u001b[0;31m---------------------------------------------------------------------------\u001b[0m",
      "\u001b[0;31mNameError\u001b[0m                                 Traceback (most recent call last)",
      "\u001b[0;32m<ipython-input-6-a5938ace3f42>\u001b[0m in \u001b[0;36m<module>\u001b[0;34m\u001b[0m\n\u001b[0;32m----> 1\u001b[0;31m \u001b[0mg\u001b[0m\u001b[0;34m\u001b[0m\u001b[0;34m\u001b[0m\u001b[0m\n\u001b[0m",
      "\u001b[0;31mNameError\u001b[0m: name 'g' is not defined"
     ]
    }
   ],
   "source": [
    "\n",
    "g"
   ]
  },
  {
   "cell_type": "code",
   "execution_count": null,
   "metadata": {},
   "outputs": [],
   "source": []
  },
  {
   "cell_type": "code",
   "execution_count": null,
   "metadata": {},
   "outputs": [],
   "source": []
  },
  {
   "cell_type": "code",
   "execution_count": null,
   "metadata": {},
   "outputs": [],
   "source": []
  },
  {
   "cell_type": "code",
   "execution_count": null,
   "metadata": {},
   "outputs": [],
   "source": []
  },
  {
   "cell_type": "code",
   "execution_count": 11,
   "metadata": {},
   "outputs": [
    {
     "data": {
      "text/plain": [
       "3.9750328"
      ]
     },
     "execution_count": 11,
     "metadata": {},
     "output_type": "execute_result"
    }
   ],
   "source": [
    "(heron.gen_powers.sum(axis=0)).mean()"
   ]
  },
  {
   "cell_type": "code",
   "execution_count": 16,
   "metadata": {},
   "outputs": [],
   "source": [
    "heron.sat3d.clear_trail()"
   ]
  },
  {
   "cell_type": "code",
   "execution_count": 14,
   "metadata": {},
   "outputs": [],
   "source": [
    "g.xmin = 100"
   ]
  },
  {
   "cell_type": "code",
   "execution_count": 14,
   "metadata": {},
   "outputs": [],
   "source": [
    "area_curves[0].plot([1,2])"
   ]
  },
  {
   "cell_type": "code",
   "execution_count": null,
   "metadata": {},
   "outputs": [],
   "source": []
  },
  {
   "cell_type": "markdown",
   "metadata": {},
   "source": [
    "## Some Geometry\n",
    "### Orbits off the xz-plane (ltdn != 12) \n",
    "\n",
    "From the description [here](https://math.stackexchange.com/questions/1742723/equation-of-a-circle-in-spherical-coordinates) we can paramterize the orbit on the x-z plane, and then apply the rotation matrix to it. So, first, the orbit on the xz plane where $ 0 \\leq t < 2 \\pi$ : \n",
    "\n",
    "$$\n",
    "\\begin{bmatrix}\n",
    "x \\\\ y \\\\ z\n",
    "\\end{bmatrix} \n",
    "= \n",
    "\\begin{bmatrix}\n",
    "r \\sin t \\\\ 0 \\\\  r \\cos t\n",
    "\\end{bmatrix}\n",
    "$$\n",
    "\n",
    "Let's define $\\phi$ as the angle that determines the LTDN of the satellite. So, $\\phi=0$ indicates an LTDN of 6, and $\\phi=\\pi/2$ is an LTDN of 12. \n",
    "\n",
    "Define $\\theta$ as the inclination of the satellite. So, $\\theta=0$ is a 90-degree inclination. \n",
    "\n",
    "Now, assuming that the sun is located at $x=0,y=d_{sun},z=0$, and that the dawn/dusk orbit with an LTDN of 6pm is on the xz-plane, our angles correspond to the image in the link [here](http://mathworld.wolfram.com/EulerAngles.html) (don't be confused by the circle in the image, that does not correspond to our orbit.\n",
    "\n",
    "So, that means our angles are Euler angles! We can apply rotation matrices $D$ and $C$ as defined there to get our new orbits!\n",
    "\n",
    "\n",
    "\n",
    "### The flip\n",
    "\n",
    "**NOTE: $\\theta$ should be replaced with $\\psi$ in the following text, and $\\alpha$ is actually $\\phi - \\pi/2$**\n",
    "\n",
    "For now, we assume that the 'up' axis of the satellite will make an angle $\\theta$ with the z-axis of our earth model. At $t = 0$, $\\theta = 0$. At $t = 0.25$, we have $\\theta = \\pi$ since the satellite will be \"upside down\" when passing the equator. At $t = 0.5$, $\\theta = 2\\pi$. For the second half of the orbit, it loops around the same way.\n",
    "\n",
    "Other than these points, the rate of change of $\\theta$ is currently unclear. Few possible ways of modelling it:\n",
    "\n",
    "* Linear : $\\theta = 4 \\pi t$\n",
    "* Trigonometric, with fast flipping at the poles: \n",
    "\n",
    "$$\n",
    "\\frac{d\\theta}{dt} \\propto 1 + \\cos(4\\pi t) \\\\\n",
    "\\theta(t) = 4 \\pi(t + \\frac{1}{4\\pi} \\sin (4\\pi t)) \\\\\n",
    "\\theta(t) = 4 \\pi t + \\sin (4\\pi t))\n",
    "$$\n",
    "\n",
    "* Trigonometric, with slow flipping at the poles: \n",
    "\n",
    "$$\n",
    "\\frac{d\\theta}{dt} \\propto 1 - \\cos(4\\pi t) \\\\\n",
    "\\theta(t) = 4 \\pi(t - \\frac{1}{4\\pi} \\sin (4\\pi t)) \\\\\n",
    "\\theta(t) = 4 \\pi t - \\sin (4\\pi t))\n",
    "$$\n",
    "\n",
    "\n",
    "OK, so now we have a way of calculating the angle based on the current time. Now we need to convert this angle to a vector from the origin.\n",
    "\n",
    "If we have a ltdn of 12 (alpha = 0), we can draw a unit circle on the xy-plane and based on a given $\\theta$ we can calculate:\n",
    "\n",
    "$$\n",
    "\\begin{bmatrix} x \\\\ y \\\\ z \\end {bmatrix} = \\begin{bmatrix} \\sin \\theta \\\\ \\cos \\theta \\\\ 0 \\end {bmatrix}\n",
    "$$\n",
    "\n",
    "For cases where we have a non-zero $\\alpha$, we can apply the rotation matrix to these coordinates to get basically the same exact formula:\n",
    "\n",
    "$$\n",
    "\\begin{bmatrix}\n",
    "x \\\\ y \\\\ z\n",
    "\\end{bmatrix} \n",
    "= \n",
    "\\begin{bmatrix}\n",
    " \\sin \\theta \\cos \\alpha \\\\  \\cos \\theta \\\\ -  \\sin \\theta \\sin \\alpha\n",
    "\\end{bmatrix}\n",
    "$$\n",
    "\n",
    "Note the difference here - $\\theta$ is a time-dependent quantity! So it's probably more correct to replace it with $\\theta(t)$.\n",
    "\n",
    "To calculate the \"up\" direction for the satellite, we will use the `get_theta` function defined above (with a few different options for the theta approximation). Since the math is essentially identical, to convert this theta into a vector we will use the `orbit_xyz` function. The only difference will be a factor of $2\\pi$ in the inputs."
   ]
  },
  {
   "cell_type": "code",
   "execution_count": 18,
   "metadata": {
    "scrolled": true
   },
   "outputs": [
    {
     "data": {
      "image/png": "[encoded data removed]",
      "text/plain": [
       "<Figure size 432x288 with 1 Axes>"
      ]
     },
     "metadata": {
      "needs_background": "light"
     },
     "output_type": "display_data"
    }
   ],
   "source": [
    "for method in ['fast-pole-flip', 'slow-pole-flip', 'linear']:\n",
    "    thetas = []\n",
    "    for i in n.linspace(0, 1, 100):\n",
    "        thetas.append(get_theta(i, method))\n",
    "    plot(n.linspace(0,1,100),thetas, label=method)\n",
    "    xlabel('fraction of orbit')\n",
    "    ylabel('theta')\n",
    "    legend()\n",
    "    "
   ]
  },
  {
   "cell_type": "markdown",
   "metadata": {},
   "source": [
    "### Viewing direction and projected area\n",
    "\n",
    "So, to calculate the projected area (as viewed by the sun) of each side of the satellite, we have two pieces of information:\n",
    "* An 'up' vector\n",
    "* $\\alpha$ degrees of rotation around the up axis corresponding to the spitroasting.\n",
    "\n",
    "OK, so what we want is the area of the projection of at most 3 faces of the satellite on the xz-plane. Let's number the faces, going clockwise looking down from the top of the satellite, 0-3, top is 4 and bottom is 5.\n",
    "\n",
    "We want to calculate the angle between the normal of each face and the normal of our projection plane. \n",
    "\n",
    "As long as we have the up vector, we don't care about where the satellite is within its orbit. The circular motion does not change the up vector.\n",
    "\n",
    "First start in the coordinate frame of the satellite. -x face is 0, -y is 1, +x is 2, +y is 3, +z is 4 and -z is 5. At this point, the normal vectors for the faces are `[-1,0,0], [0,-1,0], [1,0,0], [0,1,0], [0,0,1], [0,0,-1]` respectively. Then, multiply this by a rotation around the z-axis by $\\alpha$. Can do this with the `rotate_vector`2"
   ]
  },
  {
   "cell_type": "code",
   "execution_count": null,
   "metadata": {},
   "outputs": [],
   "source": []
  }
 ],
 "metadata": {
  "kernelspec": {
   "display_name": "Python 3",
   "language": "python",
   "name": "python3"
  },
  "language_info": {
   "codemirror_mode": {
    "name": "ipython",
    "version": 3
   },
   "file_extension": ".py",
   "mimetype": "text/x-python",
   "name": "python",
   "nbconvert_exporter": "python",
   "pygments_lexer": "ipython3",
   "version": "3.8.5"
  }
 },
 "nbformat": 4,
 "nbformat_minor": 2
}
