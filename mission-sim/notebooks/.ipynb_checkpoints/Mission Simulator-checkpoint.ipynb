{
 "cells": [
  {
   "cell_type": "markdown",
   "metadata": {},
   "source": [
    "# Mission Simulation\n",
    "Scripts to simulate the behaviour and conditions of the satellite in different orbits, under different plans of operation."
   ]
  },
  {
   "cell_type": "markdown",
   "metadata": {},
   "source": [
    "### Setup Instructions\n",
    "\n",
    "The following instructions were created on Ubuntu on the Windows Subsystem for Linux on a Windows 10 laptop, but should work for any system. If you are on a Windows system, the recommended setup is using the [Windows Subsystem for Linux](https://docs.microsoft.com/en-us/windows/wsl/about). These are the steps:\n",
    "\n",
    "1. Install [conda 3](https://conda.io/en/latest/miniconda.html). If you are using WSL, the instructions [here](https://gist.github.com/kauffmanes/5e74916617f9993bc3479f401dfec7da). Conda is a python package manager to keep track of all the dependencies in your project, and it'll make it painless. Read [this guide](https://conda.io/projects/conda/en/latest/user-guide/tasks/manage-environments.html).\n",
    "2. Clone this github repository on your system using `git clone https://github.com/HeronMkII/mission-sim`\n",
    "3. Load up the conda environment from the file `conda env create -f sims-env.yml` \n",
    "4. Activate the environment `conda activate sims-env`\n",
    "5. Run the notebook server: `jupyter notebook`, and open up the link on your browser to run this notebook"
   ]
  },
  {
   "cell_type": "markdown",
   "metadata": {},
   "source": [
    "### 0. Imports and Global Constants"
   ]
  },
  {
   "cell_type": "code",
   "execution_count": 1,
   "metadata": {},
   "outputs": [],
   "source": [
    "# 0.1 Imports\n",
    "import numpy as np\n",
    "import matplotlib.pyplot as plt\n",
    "from openpyxl import load_workbook\n",
    "import os.path\n",
    "import datetime as dt\n"
   ]
  },
  {
   "cell_type": "code",
   "execution_count": 2,
   "metadata": {},
   "outputs": [],
   "source": [
    "# 0.2 Physical Constants\n",
    "o = 5.67*np.power(10.0,-8.0);     #Stephan-Boltzmann Constant"
   ]
  },
  {
   "cell_type": "markdown",
   "metadata": {},
   "source": [
    "### 1. Orbit Object\n",
    "Every orbit from STK can be imported as a class"
   ]
  },
  {
   "cell_type": "code",
   "execution_count": 3,
   "metadata": {},
   "outputs": [],
   "source": [
    "class Orbit (object):\n",
    "\n",
    "    # wb_name [string] - name of the Excel workbook containing beta angles and exlipse fractions\n",
    "    # sh_name [string] - name of the sheet to look at in the owrkboo\n",
    "    def __init__(self, wb_name, sh_name, n_days, T, alt, launch_date):\n",
    "        # Allocate arrays\n",
    "        self.beta_angles = np.zeros(n_days + 1)\n",
    "        self.eclipse_frc = np.zeros(n_days + 1) \n",
    "        self.launch_date = launch_date\n",
    "        self.T_orbit = T #minutes;\n",
    "        self.alt = alt\n",
    "        # CAUTION: beta_angles[0] and eclipse_frc[0] are ignored. Day 1, the first day, is stored in [1]\n",
    "        \n",
    "        self.orbits_per_day = int(np.floor(24*360/T))\n",
    "        \n",
    "        # Import notebook (no formulas, data only)\n",
    "        wb = load_workbook(wb_name, data_only=True)\n",
    "\n",
    "        # Loop through each day\n",
    "        row = 2\n",
    "        while (wb[sh_name][\"D\"+str(row)].value != None):\n",
    "            self.beta_angles[row - 1] = wb[sh_name]['E'+str(row)].value\n",
    "            self.eclipse_frc[row - 1] = wb[sh_name]['G'+str(row)].value\n",
    "            row += 1\n",
    "    "
   ]
  },
  {
   "cell_type": "markdown",
   "metadata": {},
   "source": [
    "### 2. Satellite Objects\n",
    "\n",
    "Here we define the satellite properties, concept of operations and other operational parameters that simulate our satellite."
   ]
  },
  {
   "cell_type": "markdown",
   "metadata": {},
   "source": [
    "#### 2.1 Satellite constants and Assumptions\n",
    "Assumptions and constants regarding the thermal properties, time between radio tranmissions and power generation from solar panels"
   ]
  },
  {
   "cell_type": "code",
   "execution_count": 4,
   "metadata": {},
   "outputs": [],
   "source": [
    "# 1.1 Define Class of Thermal Properties\n",
    "class THM_Properties(object):\n",
    "    def __init__(self):\n",
    "        return\n",
    "    # Thermal Assumptions\n",
    "    tot = 0.1418;           #Total Area [m^2]\n",
    "    a = 0.72;               #Absorptivity \n",
    "    e = 0.58;               #Emissivity\n",
    "    Ra = 0.1;               #Absorptivity\n",
    "    Re = 0.8;               #Emissivity\n",
    "    Arad = 0;               #Area of Radiator [m^2]\n",
    "    K = 0.08;               #Bus-Payload Conductance [W/K]\n",
    "    Pmax = 0.2;             #Max heat disipation \n",
    "    \n",
    "    sta_coldT = 10          # Minimum temperature during stasis [C]\n",
    "    exp_coldT = 33          # Minimum temperature during experiment [C]\n",
    "    "
   ]
  },
  {
   "cell_type": "code",
   "execution_count": 5,
   "metadata": {},
   "outputs": [],
   "source": [
    "# 1.2 Define communication time and length\n",
    "class COM_Properties(object):\n",
    "    def __init__(self):\n",
    "        return\n",
    "    beacon_time = 1        # length of a beacon transmission in minutes\n",
    "    tx_time = 1            # length of a transmission in minutes\n",
    "    beacon_per_orbit = 5   # Number of beacons in an orbit\n",
    "    tx_per_orbit = 1       # Number of transmissiosn in an orbit"
   ]
  },
  {
   "cell_type": "code",
   "execution_count": 6,
   "metadata": {},
   "outputs": [],
   "source": [
    "# 1.3 Define Power Generation / solar cell Properties\n",
    "class PWR_Gen_Properties(object):\n",
    "    def __init__(self):\n",
    "        return\n",
    "    pwr_in_sun = 6000 #Power generated in the sun, mW (extracted from Sam's old datasheets)\n",
    "    eff = 0.75 # efficiency"
   ]
  },
  {
   "cell_type": "markdown",
   "metadata": {},
   "source": [
    "#### 2.4 CONOPS\n",
    "This can be improved upon to decide the operational principles of the satellite. Currently only has a predefined start date and experiment length."
   ]
  },
  {
   "cell_type": "code",
   "execution_count": 7,
   "metadata": {},
   "outputs": [],
   "source": [
    "class CONOPS(object):\n",
    "    def __init__(self):\n",
    "        return\n",
    "    mission_len = 100 # days\n",
    "    exp_len = 5 #days\n",
    "    exp_start = 30 #days"
   ]
  },
  {
   "cell_type": "markdown",
   "metadata": {},
   "source": [
    "#### 2.5 Component Class\n",
    "Every component that consumes power is instantiated as an object with a dictionary containing its power usage at different states"
   ]
  },
  {
   "cell_type": "code",
   "execution_count": 8,
   "metadata": {},
   "outputs": [],
   "source": [
    "class Component(object):\n",
    "    def __init__ (self, name, states):\n",
    "        # name: a descriptive string\n",
    "        self.name = name\n",
    "        # states: a dictionary describing possible states of the form: {'state_name' : [nominal_power, budgeted_power]}\n",
    "        # units are mW\n",
    "        self.states = states\n",
    "    def pwr(self,state, val = 1):\n",
    "        return self.states[state][val]\n",
    "    def change_pwr(self, state, update, val=1):\n",
    "        self.states[state][val] = update"
   ]
  },
  {
   "cell_type": "code",
   "execution_count": 9,
   "metadata": {},
   "outputs": [],
   "source": [
    "class Batteries (object):\n",
    "    \n",
    "    v_batt = 2.7\n",
    "    def __init__(self, n_batt, capacity_mah):\n",
    "        self.charge_stored =  n_batt * capacity_mah;\n",
    "        self.capacity = n_batt * capacity_mah;\n",
    "    def charge (self, mw_in, seconds):\n",
    "        if (self.charge_stored + (mw_in/self.v_batt)*seconds*(1/3600) > self.capacity):\n",
    "            delta = self.capacity - self.charge_stored\n",
    "            self.charge_stored = self.capacity\n",
    "        else:\n",
    "            self.charge_stored += (mw_in/self.v_batt) * (seconds) * (1/3600)\n",
    "            delta = (mw_in/self.v_batt) * (seconds) * (1/3600)\n",
    "        return delta\n",
    "       \n",
    "    def drain(self, mw_out, seconds):\n",
    "        if self.charge_stored - (mw_out/self.v_batt) * seconds * (1/3600) < 0:\n",
    "            return -1\n",
    "        else:\n",
    "            self.charge_stored -= (mw_out/self.v_batt) * seconds * (1/3600)\n",
    "            return (mw_out/self.v_batt) * seconds * (1/3600)\n",
    "        \n",
    "        \n",
    "        \n",
    "    def is_full():\n",
    "        return (self.capacity_mah <= self.charge_stored)"
   ]
  },
  {
   "cell_type": "markdown",
   "metadata": {},
   "source": [
    "#### 2.6 Bus and Payload Objects\n",
    "Grouping the components together. \n",
    "The bus contains the OBC, EPS, and COM boards as well as the Li-1 Transceiver.\n",
    "Pay contains the heaters, payload microcontroller, and eps_htr which is the converter running during the operation of the heaters - EPS consumes more power during heating according to Sam's budgets.\n"
   ]
  },
  {
   "cell_type": "code",
   "execution_count": 10,
   "metadata": {},
   "outputs": [],
   "source": [
    "class Bus(object):\n",
    "    def __init__ (self, state, com_properties, orb_properties, obc, eps, com, li1, batteries):\n",
    "        self.com_p = com_properties\n",
    "        self.orb_p = orb_properties\n",
    "        \n",
    "        self.obc = obc\n",
    "        self.eps = eps\n",
    "        self.com = com\n",
    "        self.li1 = li1\n",
    "        \n",
    "        self.batt = batteries;\n",
    "        \n",
    "        self.state = state\n",
    "        \n",
    "        self.set_power()\n",
    "\n",
    "    \n",
    "    def set_state(self, state):\n",
    "        self.state = state\n",
    "        self.set_power()\n",
    "            \n",
    "    def set_power(self):\n",
    "        self.pwr = (self.com_p.beacon_per_orbit / self.orb_p.T_orbit) * self.com_p.beacon_time * self.li1.pwr(\"TX\")\n",
    "        self.pwr += (self.com_p.tx_per_orbit / self.orb_p.T_orbit) * self.com_p.tx_time * self.li1.pwr(\"TX\")\n",
    "        self.pwr += ((1 - (self.com_p.tx_per_orbit * self.com_p.tx_time + self.com_p.beacon_per_orbit * self.com_p.beacon_time)) / self.orb_p.T_orbit) * self.li1.pwr(\"RX\")\n",
    "        \n",
    "        self.pwr += self.obc.pwr(self.state)\n",
    "        self.pwr += self.com.pwr(self.state)\n",
    "        self.pwr += self.eps.pwr(self.state)\n",
    "        \n",
    "        \n",
    "        \n",
    "class Pay(object):\n",
    "    def __init__ (self,state, ssm, htr, eps_htr):\n",
    "        self.state = state\n",
    "        \n",
    "        self.ssm = ssm\n",
    "        self.htr = htr\n",
    "        self.eps_htr = eps_htr\n",
    "        \n",
    "        self.set_power()\n",
    "        \n",
    "    def set_heat (self, heat_sta, heat_exp):\n",
    "        self.htr.change_pwr(\"KPALIVE\", heat_sta, 0)\n",
    "        self.htr.change_pwr(\"KPALIVE\", heat_sta * 1.1, 1)\n",
    "        self.htr.change_pwr(\"EXP\", heat_exp, 0)\n",
    "        self.htr.change_pwr(\"EXP\", heat_exp * 1.1, 1)\n",
    "        self.set_power()\n",
    "    \n",
    "    def set_state (self, state):\n",
    "        self.state = state\n",
    "        self.set_power()\n",
    "    \n",
    "    def set_power(self):\n",
    "        self.pwr = self.ssm.pwr(self.state)\n",
    "        self.pwr += self.htr.pwr(self.state)\n",
    "        self.pwr += self.eps_htr.pwr(self.state)"
   ]
  },
  {
   "cell_type": "markdown",
   "metadata": {},
   "source": [
    "#### 2.7 Satellite Object\n",
    "Brings everything together. Contains methods to simulate the orbit."
   ]
  },
  {
   "cell_type": "code",
   "execution_count": 11,
   "metadata": {},
   "outputs": [],
   "source": [
    "class Satellite (object):\n",
    "    # Inputs: Orbit, THM_Properties, #PWR__Gen_Properties, Bus, Payload\n",
    "    def __init__ (self, o, t_p, c_p, p_p, bus, payload):\n",
    "        self.pwr_gen = p_p.pwr_in_sun * p_p.eff * (1 - o.eclipse_frc)\n",
    "        self.bus = bus\n",
    "        self.payload = payload\n",
    "        self.orb_prop = o\n",
    "        self.thm_prop = t_p\n",
    "        self.com_prop = c_p\n",
    "        self.eps_prop = p_p\n",
    "        return\n",
    "        \n",
    "    def simulate (self, conops, n_days_sim = 100):\n",
    "        heats = get_heats(self.thm_prop, self.orb_prop)\n",
    "        self.exp_heats = heats[0]\n",
    "        self.sta_heats = heats[1]\n",
    "        \n",
    "        # sketchy! just assuming an integer number of orbits per day\n",
    "        T_int = int(24 * 60 / self.orb_prop.orbits_per_day);\n",
    "        self.pwr_out= np.zeros(conops.mission_len + 1)\n",
    "        self.margin = np.zeros(conops.mission_len + 1)\n",
    "        self.dates = [0]\n",
    "        self.minutes = [self.orb_prop.launch_date - dt.timedelta(minutes = T_int)]\n",
    "        self.batt_in = [0]\n",
    "        self.batt_drain = [0]\n",
    "        self.batt_charge = [0]\n",
    "        \n",
    "        # DAYS\n",
    "        for i in range(1,n_days_sim):\n",
    "            \n",
    "            if (i % 30 == 0):\n",
    "                print(\"%d\", i)\n",
    "            \n",
    "            # Decide whether the experiment is running or not\n",
    "            if ( i < conops.exp_start or i > (conops.exp_start + conops.exp_len - 1) ):\n",
    "                self.bus.set_state('REGULAR')\n",
    "                self.payload.set_state('KPALIVE')\n",
    "            else:\n",
    "                self.payload.set_state('EXP')\n",
    "                self.bus.set_state('REGULAR')\n",
    "            \n",
    "            # Get the average necessary power generation for the day\n",
    "            self.payload.set_heat(self.sta_heats[i], self.exp_heats[i])\n",
    "            \n",
    "            # Average daily power in vs power out\n",
    "            self.pwr_out[i] = self.bus.pwr + self.payload.pwr\n",
    "            self.margin[i] = - self.pwr_out[i] + self.pwr_gen[i]\n",
    "            self.dates.append(self.orb_prop.launch_date + (i-1)*dt.timedelta(days=1))\n",
    "            \n",
    "\n",
    "          \n",
    "            \n",
    "            # ORBIT\n",
    "            for orbit in range (1, self.orb_prop.orbits_per_day):\n",
    "                switch_minute = T_int * self.orb_prop.eclipse_frc[i];\n",
    "                \n",
    "                # MINUTES\n",
    "                for minute in range (1, T_int):\n",
    "                    # assume first shade, then sun\n",
    "                    # the minute where the orbit switches from shade to sun:\n",
    "                    self.minutes.append(self.minutes[-1] + dt.timedelta(minutes=T_int))\n",
    "                    \n",
    "                    if (minute < switch_minute):\n",
    "                        # Note: this is the average power drain. ideally, it should be corrected to vary over the orbit\n",
    "                        self.batt_in.append(0);\n",
    "                        self.batt_drain.append(self.bus.batt.drain(self.pwr_out[i], 60))\n",
    "                        #if (self.batt_drain[-1] == -1):\n",
    "                        #    print(\"failed\")\n",
    "                        #    return\n",
    "                        \n",
    "                        \n",
    "                    else:\n",
    "                        self.batt_in.append(self.bus.batt.charge(self.eps_prop.pwr_in_sun * self.eps_prop.eff, 60 ))\n",
    "                        self.batt_drain.append(self.bus.batt.drain(self.pwr_out[i], 60))\n",
    "                        #if (self.batt_drain[-1] == -1):\n",
    "                        #    print(\"failed\")\n",
    "                        #    return\n",
    "                    self.batt_charge.append(self.bus.batt.charge_stored)      \n",
    "       \n",
    "        \n",
    "        self.plot_avg()\n",
    "        self.plot_transient()\n",
    "    \n",
    "    def plot_avg(self):\n",
    "        \n",
    "        fig = plt.figure(figsize=(12, 6))\n",
    "        \n",
    "        plt.ylabel (\"Power (mW)\")\n",
    "        plt.xlabel (\"Date\")\n",
    "        \n",
    "        gen = plt.plot(self.dates[1:], self.pwr_gen[1:len(self.dates)], 'g', label='Power Generated')\n",
    "        out = plt.plot(self.dates[1:], self.pwr_out[1:len(self.dates)], 'b', label='Power Consumed')\n",
    "        mar = plt.plot(self.dates[1:], self.margin[1:len(self.dates)], 'r', label='Margin')\n",
    "  \n",
    "        plt.title(\"Daily Average Power Consumption and Generation\", fontweight = 'bold')\n",
    "        plt.xlabel(\"Date\")\n",
    "        plt.ylabel(\"Power (mW)\")\n",
    "        plt.legend ()\n",
    "        plt.ylim ((0,5000))\n",
    "        plt.show()\n",
    "        return fig\n",
    "    def plot_transient(self):\n",
    "        f = plt.figure(figsize=(12, 6))\n",
    "\n",
    "        plt.plot(np.array(self.minutes[1:]), self.batt_charge[1:])\n",
    "        plt.title(\"Transient Battery Charge Simulation\", fontweight = 'bold')\n",
    "        plt.xlabel(\"Date\")\n",
    "        plt.ylabel(\"Battery Charge (mAh)\")\n",
    "        plt.show()\n"
   ]
  },
  {
   "cell_type": "markdown",
   "metadata": {},
   "source": [
    "### 3. Thermal Requirements\n",
    "Heating requirements for Stasis and Experiment based on orbit. Taken from Joanna's MATLAB simulation. "
   ]
  },
  {
   "cell_type": "code",
   "execution_count": 12,
   "metadata": {},
   "outputs": [],
   "source": [
    "def get_heats(thm_p, orb_p):\n",
    "    #3.1 Define Constants \n",
    "\n",
    "    #target temperatures\n",
    "    exp_minT = thm_p.exp_coldT\n",
    "    sta_minT = thm_p.sta_coldT\n",
    "\n",
    "    tot = thm_p.tot           #Total Area [m^2]\n",
    "    a = thm_p.a               #Absorptivity \n",
    "    e = thm_p.e               #Emissivity\n",
    "    Ra = thm_p.Ra             #Absorptivity\n",
    "    Re = thm_p.Re             #Emissivity\n",
    "    Arad = thm_p.Arad         #Area of Radiator [m^2]\n",
    "    K = thm_p.K               #Bus-Payload Conductance [W/K]\n",
    "    Pmax = thm_p.Pmax         #Max heat disipation \n",
    "    \n",
    "    #3.2 Read Data\n",
    "    Bdegs = np.abs(orb_p.beta_angles)\n",
    "    Ef    = orb_p.eclipse_frc\n",
    "    Brad = Bdegs/180*np.pi\n",
    "\n",
    "\n",
    "    #3.3 Empty Arrays\n",
    "    Tcold = np.zeros(n_days+1)\n",
    "    heatExp = np.zeros(n_days+1)\n",
    "    heatSta = np.zeros(n_days+1)\n",
    "\n",
    "    for i in range (1, n_days):\n",
    "        #2.4.1 Albedo Correction\n",
    "        Bd = Bdegs[i]\n",
    "        if Bd > 0 and Bd < 20:\n",
    "            c = Bd*(0.05 - 0.04)/20 + 0.04;\n",
    "        elif Bd > 20 and Bd < 40:\n",
    "            c = (Bd - 20)*(0.07 - 0.05)/20 + 0.05;\n",
    "        elif Bd > 40 and Bd < 50:\n",
    "            c = (Bd - 40)*(0.09 - 0.07)/10 +0.07;\n",
    "        elif Bd > 50 and Bd < 60:\n",
    "            c = (Bd - 50)*(0.12 - 0.09)/10 + 0.09;\n",
    "        elif Bd > 60 and Bd < 70:\n",
    "            c = (Bd - 60)*(0.16 - 0.12)/10 + 0.12; \n",
    "        elif Bd > 70 and Bd < 80:\n",
    "            c = (Bd - 70)*(0.22 - 0.16)/10 + 0.16;\n",
    "        else:\n",
    "            c = (Bd - 80)*(0.31 - 0.22)/10 + 0.22;\n",
    "\n",
    "        #3.4.2 Heat Flux Constants (Taken from SSO analysis matlab file, is it supposed to be different for ISS?)\n",
    "        F = [0.0265, 1322.0, 217.0, 0.17+c]\n",
    "\n",
    "        #3.4.3 Select and calculate extreme cases for each week\n",
    "        coldT = np.power(o,-0.25) * np.power((F[1] * (a/e) * ( (1.0-Ef[i]) * (F[0]/tot) + \n",
    "                                               np.cos(Brad[i])/np.power((np.pi),2.0)*F[3]) \n",
    "                                                + F[2]/np.pi),(0.25)) - 10.0\n",
    "        #3.5 Populate Array\n",
    "        Tcold[i] = coldT\n",
    "        heatExp[i] = (K*(exp_minT+273.15-coldT)) + (Arad*o*Re*(np.power(coldT,4) - np.power(4,4)))-Pmax\n",
    "        heatSta[i] = (K*(sta_minT+273.15-coldT)) + (Arad*o*Re*(np.power(coldT,4) - np.power(4,4)))-Pmax\n",
    "\n",
    "     # Convert Everything into mW\n",
    "    \n",
    "        \n",
    "    return (1000*heatExp, 1000*heatSta)"
   ]
  },
  {
   "cell_type": "markdown",
   "metadata": {},
   "source": [
    "### 4. Simulate"
   ]
  },
  {
   "cell_type": "markdown",
   "metadata": {},
   "source": [
    "#### 4.1 Orbit Input\n",
    "We import an orbit from an Excel Sheet including the Beta Angles. Set a launch date as well. For now, keeping the number of orbits per day to an integer is better."
   ]
  },
  {
   "cell_type": "code",
   "execution_count": 13,
   "metadata": {},
   "outputs": [],
   "source": [
    "# 1. Set up orbit\n",
    "# Excel Workbook of Beta Angles and Eclipse Fractions, must be in same directory\n",
    "wb_name = 'July19_July20SSO.xlsx'\n",
    "sh_name = 'SSO Beta Angles'\n",
    "n_days = 397\n",
    "launch = dt.datetime(2019, 7, 1)\n",
    "\n",
    "orb_prop = Orbit(wb_name, sh_name, 397, 1.5*60, 550, launch)"
   ]
  },
  {
   "cell_type": "code",
   "execution_count": 14,
   "metadata": {},
   "outputs": [
    {
     "data": {
      "text/plain": [
       "35.584000000000024"
      ]
     },
     "execution_count": 14,
     "metadata": {},
     "output_type": "execute_result"
    }
   ],
   "source": [
    "60*((12 - (21.104/90)*6)-10)"
   ]
  },
  {
   "cell_type": "code",
   "execution_count": 15,
   "metadata": {},
   "outputs": [
    {
     "data": {
      "text/plain": [
       "21.10466750629723"
      ]
     },
     "execution_count": 15,
     "metadata": {},
     "output_type": "execute_result"
    }
   ],
   "source": [
    "orb_prop.beta_angles[1:].mean()"
   ]
  },
  {
   "cell_type": "markdown",
   "metadata": {},
   "source": [
    "#### 4.2 Satellite Properties\n",
    "Here we create objects corresponding to different properties of the satellite. The first bunch sets up the default properties defined in 2.1, but you should take a look at what those are and change them as shown in the last statements.\n",
    "\n",
    "The Thermal properties contain conductances, a/e values etc. The COM properties have the transmission time and length. Power generation properties define our generation constant and our efficiency. CONOPS holds the Concept of Operations, which is only start date and length of experiment for now"
   ]
  },
  {
   "cell_type": "code",
   "execution_count": 16,
   "metadata": {},
   "outputs": [],
   "source": [
    "# 2. Set up properties as default values\n",
    "\n",
    "thm_prop = THM_Properties()\n",
    "com_prop = COM_Properties()\n",
    "gen_prop = PWR_Gen_Properties()\n",
    "conops = CONOPS()\n",
    "\n",
    "# Change some values\n",
    "thm_prop.a = 0.78\n",
    "thm_prop.e = 0.52\n",
    "conops.exp_start = 10\n",
    "conops.exp_len = 2\n"
   ]
  },
  {
   "cell_type": "markdown",
   "metadata": {},
   "source": [
    "#### 4.3 Power Budget\n",
    "Power budget, with a few modes in each component. The mode is used to calculate power used at different points in the mission based on the Pay and Bus objects"
   ]
  },
  {
   "cell_type": "code",
   "execution_count": 17,
   "metadata": {},
   "outputs": [],
   "source": [
    "# 3. Set up components and power usage\n",
    "obc_ssm = Component(\"OBC\",    {'REGULAR'  : [50, 55],\n",
    "                              'LOPWR'     : [30, 33]})\n",
    " \n",
    "eps_ssm = Component(\"EPS\",    {'REGULAR' :  [50,55],\n",
    "                               'LOPWR'   :  [50,55]})\n",
    "\n",
    "eps_htr = Component (\"EPS_HTR\",{'KPALIVE' :  [150, 157.5],\n",
    "                               'EXP'     :  [150, 157.5]})\n",
    "\n",
    "com_ssm = Component(\"COM\",    {'REGULAR' :  [50,55] })\n",
    "\n",
    "com_li1 = Component(\"Li-1\",   {'RX'      :  [200, 250],\n",
    "                               'TX'      :  [10000, 10000]})\n",
    "  \n",
    "pay_ssm = Component(\"PAY\",    {'KPALIVE' :  [50,55],\n",
    "                               'EXP'     :  [200,210]})\n",
    "\n",
    "pay_htr = Component(\"HEATER\", {'KPALIVE' :  [0, 0],\n",
    "                               'EXP'     :  [0, 0],\n",
    "                               'OFF'     :  [0, 0]})"
   ]
  },
  {
   "cell_type": "markdown",
   "metadata": {},
   "source": [
    "#### 4.4 Instantiate Batteries, Payload and Bus\n",
    "Here we put all the component we defined earlier into two main objects, Pay and Bus.\n",
    "\n",
    "We also create the batteries, choosing the number of batteries and the charge capacity of each."
   ]
  },
  {
   "cell_type": "code",
   "execution_count": 18,
   "metadata": {},
   "outputs": [],
   "source": [
    "# 4. Create a payload and Bus\n",
    "payload = Pay(\"KPALIVE\", pay_ssm, pay_htr, eps_htr)\n",
    "batt = Batteries(4, 2600)\n",
    "bus = Bus(\"REGULAR\", com_prop, orb_prop, obc_ssm, eps_ssm, com_ssm, com_li1, batt)"
   ]
  },
  {
   "cell_type": "markdown",
   "metadata": {},
   "source": [
    "#### 4.5 Simulate\n",
    "Put everything in a neat satellite object, then simulate the orbit for a certain number of days"
   ]
  },
  {
   "cell_type": "code",
   "execution_count": 19,
   "metadata": {
    "scrolled": false
   },
   "outputs": [
    {
     "data": {
      "image/png": "[encoded data removed]",
      "text/plain": [
       "<Figure size 864x432 with 1 Axes>"
      ]
     },
     "metadata": {
      "needs_background": "light"
     },
     "output_type": "display_data"
    },
    {
     "data": {
      "image/png": "[encoded data removed]",
      "text/plain": [
       "<Figure size 864x432 with 1 Axes>"
      ]
     },
     "metadata": {
      "needs_background": "light"
     },
     "output_type": "display_data"
    }
   ],
   "source": [
    "# 5. Create Satellite and Simulate\n",
    "HeronMkII = Satellite(orb_prop, thm_prop, com_prop, gen_prop, bus, payload)\n",
    "HeronMkII.simulate(conops, 30)\n"
   ]
  },
  {
   "cell_type": "markdown",
   "metadata": {},
   "source": [
    "### 5. Mess around with parameters\n",
    "You can change the inputs and see for yourself"
   ]
  },
  {
   "cell_type": "markdown",
   "metadata": {},
   "source": [
    "#### Add more batteries"
   ]
  },
  {
   "cell_type": "code",
   "execution_count": 20,
   "metadata": {},
   "outputs": [
    {
     "data": {
      "image/png": "[encoded data removed]",
      "text/plain": [
       "<Figure size 864x432 with 1 Axes>"
      ]
     },
     "metadata": {
      "needs_background": "light"
     },
     "output_type": "display_data"
    },
    {
     "data": {
      "image/png": "[encoded data removed]",
      "text/plain": [
       "<Figure size 864x432 with 1 Axes>"
      ]
     },
     "metadata": {
      "needs_background": "light"
     },
     "output_type": "display_data"
    }
   ],
   "source": [
    "HeronMkII.bus.batt = Batteries(12,1600)\n",
    "HeronMkII.simulate(conops, 30)\n",
    "\n",
    "# Revert changes after simulation cause 12 batteries is ridiculous\n",
    "HeronMkII.bus.batt = Batteries(4,1600)"
   ]
  },
  {
   "cell_type": "markdown",
   "metadata": {},
   "source": [
    "#### Change thermal stuff"
   ]
  },
  {
   "cell_type": "code",
   "execution_count": 21,
   "metadata": {},
   "outputs": [
    {
     "data": {
      "image/png": "[encoded data removed]",
      "text/plain": [
       "<Figure size 864x432 with 1 Axes>"
      ]
     },
     "metadata": {
      "needs_background": "light"
     },
     "output_type": "display_data"
    },
    {
     "data": {
      "image/png": "[encoded data removed]",
      "text/plain": [
       "<Figure size 864x432 with 1 Axes>"
      ]
     },
     "metadata": {
      "needs_background": "light"
     },
     "output_type": "display_data"
    }
   ],
   "source": [
    "HeronMkII.thm_prop.a = 0.9\n",
    "HeronMkII.simulate(conops,30)"
   ]
  },
  {
   "cell_type": "code",
   "execution_count": null,
   "metadata": {},
   "outputs": [],
   "source": []
  },
  {
   "cell_type": "code",
   "execution_count": null,
   "metadata": {},
   "outputs": [],
   "source": []
  },
  {
   "cell_type": "code",
   "execution_count": null,
   "metadata": {},
   "outputs": [],
   "source": []
  }
 ],
 "metadata": {
  "kernelspec": {
   "display_name": "Python 3",
   "language": "python",
   "name": "python3"
  },
  "language_info": {
   "codemirror_mode": {
    "name": "ipython",
    "version": 3
   },
   "file_extension": ".py",
   "mimetype": "text/x-python",
   "name": "python",
   "nbconvert_exporter": "python",
   "pygments_lexer": "ipython3",
   "version": "3.9.2"
  }
 },
 "nbformat": 4,
 "nbformat_minor": 2
}
