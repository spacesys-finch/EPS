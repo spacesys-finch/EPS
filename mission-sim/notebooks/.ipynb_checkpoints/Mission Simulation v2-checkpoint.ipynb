{
 "cells": [
  {
   "cell_type": "markdown",
   "metadata": {},
   "source": [
    "# Mission Simulation v2\n",
    "\n",
    "Revisiting the simulation of HERON's mission timeline to verify the thermal, ADCS, and power designs."
   ]
  },
  {
   "cell_type": "markdown",
   "metadata": {},
   "source": [
    "### Setup Instructions\n",
    "\n",
    "The following instructions should work for any operating system. If you are on a Windows system, the recommended setup is using the [Windows Subsystem for Linux](https://docs.microsoft.com/en-us/windows/wsl/about). These are the steps:\n",
    "\n",
    "1. Install [conda 3](https://conda.io/en/latest/miniconda.html). If you are using WSL, the instructions [here](https://gist.github.com/kauffmanes/5e74916617f9993bc3479f401dfec7da). Conda is a python package manager to keep track of all the dependencies in your project, and it'll make it painless. Read [this guide](https://conda.io/projects/conda/en/latest/user-guide/tasks/manage-environments.html).\n",
    "2. Clone this github repository on your system using `git clone https://github.com/HeronMkII/mission-sim`\n",
    "3. Load up the conda environment from the file `conda env create -f sims-env.yml` \n",
    "4. Activate the environment `source activate utat-sims`\n",
    "5. Run the notebook server: `jupyter notebook`, and open up the link on your browser to run this notebook"
   ]
  },
  {
   "cell_type": "code",
   "execution_count": 6,
   "metadata": {},
   "outputs": [
    {
     "name": "stdout",
     "output_type": "stream",
     "text": [
      "The autoreload extension is already loaded. To reload it, use:\n",
      "  %reload_ext autoreload\n",
      "Populating the interactive namespace from numpy and matplotlib\n"
     ]
    }
   ],
   "source": [
    "%load_ext autoreload\n",
    "%autoreload 2\n",
    "%pylab inline\n",
    "import numpy as n\n",
    "import os.path\n",
    "import datetime as dt"
   ]
  },
  {
   "cell_type": "code",
   "execution_count": 7,
   "metadata": {},
   "outputs": [],
   "source": [
    "# Physical Constants\n",
    "o = 5.67*n.power(10.0,-8.0);     #Stephan-Boltzmann Constant"
   ]
  },
  {
   "cell_type": "markdown",
   "metadata": {},
   "source": [
    "### 1. Satellite Components & Properties"
   ]
  },
  {
   "cell_type": "code",
   "execution_count": null,
   "metadata": {},
   "outputs": [],
   "source": [
    "class Component(object):\n",
    "    def __init__ (self, name, )"
   ]
  },
  {
   "cell_type": "markdown",
   "metadata": {},
   "source": [
    "### 2. Orbit Properties"
   ]
  },
  {
   "cell_type": "markdown",
   "metadata": {},
   "source": [
    "Define the $z$ axis of the satellite as the long axis. Assuming the current configuration of the magnets, the rotation of the satellite around the $z$ axis will be unconstrainted, but we can assume a constant rate of rotation (e.g. spit-roasting). Let's define $\\theta$ as the angle between an incident ray from the sun and the $z$ axis of the satellite (antenna being at $+z$ and payload bottom cap being at $-z$."
   ]
  },
  {
   "cell_type": "code",
   "execution_count": null,
   "metadata": {},
   "outputs": [],
   "source": [
    "n.random"
   ]
  },
  {
   "cell_type": "code",
   "execution_count": 88,
   "metadata": {},
   "outputs": [],
   "source": [
    "image = n.zeros((300, 300))\n",
    "\n",
    "sun_xy = (0,150)\n",
    "sun_radius = 80\n",
    "\n",
    "earth_xy = (200, 150)\n",
    "earth_radius = 20\n",
    "\n",
    "def add_circle(image, xy, radius, values=1):\n",
    "    for i in range(image.shape[0]):\n",
    "        for j in range(image.shape[1]):\n",
    "            if (i - xy[1])**2 + (j-xy[0])**2 < radius**2:\n",
    "                image[i,j] = values\n",
    "            \n",
    "def add_cubesat(image, xy, sizes_xy, theta):\n",
    "    xlen = sizes_xy[0]\n",
    "    ylen = sizes_xy[1]\n",
    "    \n",
    "    # use a 2d rotation matrix\n",
    "    R = n.array([[n.cos(theta), -n.sin(theta)], [n.sin(theta), n.cos(theta)]])\n",
    "    \n",
    "    "
   ]
  },
  {
   "cell_type": "code",
   "execution_count": 89,
   "metadata": {},
   "outputs": [],
   "source": [
    "add_circle(image, sun_xy, sun_radius)\n",
    "add_circle(image, earth_xy, earth_radius)"
   ]
  },
  {
   "cell_type": "code",
   "execution_count": 90,
   "metadata": {},
   "outputs": [
    {
     "data": {
      "text/plain": [
       "<matplotlib.image.AxesImage at 0x7f3f6f50c710>"
      ]
     },
     "execution_count": 90,
     "metadata": {},
     "output_type": "execute_result"
    },
    {
     "data": {
      "image/png": "[encoded data removed]",
      "text/plain": [
       "<Figure size 432x288 with 1 Axes>"
      ]
     },
     "metadata": {
      "needs_background": "light"
     },
     "output_type": "display_data"
    }
   ],
   "source": [
    "imshow(image)"
   ]
  },
  {
   "cell_type": "code",
   "execution_count": 87,
   "metadata": {},
   "outputs": [],
   "source": [
    "# what we want from the orbit:\n",
    "#     at any given t (minutes from launch), tell me what the effective area of each face is \n",
    "#     should be able to read that information from a file or calculate it \n",
    "\n",
    "class Orbit(object):\n",
    "    def __init__(self, properties = None, from_file = False, path = None):\n",
    "        self.from_file = from_file\n",
    "        if from_file: \n",
    "            assert path is not None, \"Provide a file to initialize orbit\"\n",
    "            self.from_file(filename)\n",
    "            \n",
    "        else:\n",
    "            assert properties is not None, \"Provide orbit properties to initialize orbit\"\n",
    "            self.p = properties\n",
    "            for k in ['T', 'ltdn', 'z_rot']: assert k in self.p.keys(), \"missing property\" + k\n",
    "            self.p['alpha'] = n.pi - self.p['ltdn']*(n.pi/2)/6#12 is 0, -6/+6 is pi/2, 0 is 0\n",
    "            "
   ]
  },
  {
   "cell_type": "code",
   "execution_count": 53,
   "metadata": {},
   "outputs": [],
   "source": [
    "orbital_properties = {'T' : 90, # period (minutes)\n",
    "                      'ltdn' : 12, #24hr clock , 13:30 is 13.5, 6.15am is 6.25 etc.\n",
    "                      'altitude' : 550,\n",
    "                      'zrot' : 0.1 # rad/s}\n",
    "                     }"
   ]
  },
  {
   "cell_type": "code",
   "execution_count": null,
   "metadata": {},
   "outputs": [],
   "source": []
  },
  {
   "cell_type": "code",
   "execution_count": null,
   "metadata": {},
   "outputs": [],
   "source": []
  },
  {
   "cell_type": "code",
   "execution_count": 13,
   "metadata": {},
   "outputs": [],
   "source": [
    "thermal_properties = {'a' : 0.72,\n",
    "                      'e' : 0.58,\n",
    "                      'area' : 0.1418}"
   ]
  }
 ],
 "metadata": {
  "kernelspec": {
   "display_name": "Python 3",
   "language": "python",
   "name": "python3"
  },
  "language_info": {
   "codemirror_mode": {
    "name": "ipython",
    "version": 3
   },
   "file_extension": ".py",
   "mimetype": "text/x-python",
   "name": "python",
   "nbconvert_exporter": "python",
   "pygments_lexer": "ipython3",
   "version": "3.9.2"
  }
 },
 "nbformat": 4,
 "nbformat_minor": 2
}
